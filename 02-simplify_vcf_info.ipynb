{
 "cells": [
  {
   "cell_type": "code",
   "execution_count": 1,
   "metadata": {},
   "outputs": [],
   "source": [
    "from __future__ import annotations\n",
    "from io import BytesIO\n",
    "\n",
    "import numpy as np\n",
    "import oxbow as ox\n",
    "import pandas as pd\n",
    "import polars as pl\n",
    "import pyarrow as pa\n",
    "import pysam"
   ]
  },
  {
   "cell_type": "code",
   "execution_count": 4,
   "metadata": {},
   "outputs": [],
   "source": [
    "# This dictionary maps the VCF-derived input types to numpy/pandas dtypes\n",
    "TYPE_MAP = {\n",
    "    \"Integer\": \"int64\",\n",
    "    \"Float\": \"float64\",\n",
    "    \"String\": \"object\",\n",
    "    \"Flag\": \"bool\",\n",
    "}\n",
    "\n",
    "\n",
    "def read_vcf_as_pandas(vcf_path: str) -> pd.DataFrame:\n",
    "    ipc = ox.read_vcf(vcf_path)\n",
    "    return pa.ipc.open_file(BytesIO(ipc)).read_pandas()\n",
    "\n",
    "\n",
    "def read_vcf_as_polars(vcf_path: str) -> pl.DataFrame:\n",
    "    ipc = ox.read_vcf(vcf_path)\n",
    "    return pl.read_ipc(ipc)\n",
    "\n",
    "\n",
    "def read_info_schema(vcf_path: str) -> pd.DataFrame:\n",
    "    \"\"\" \n",
    "    Read the schema of the INFO column of a VCF.\n",
    "\n",
    "    This currently uses pysam.\n",
    "\n",
    "    Parameters\n",
    "    ----------\n",
    "    vcf_path : str\n",
    "        Path to bgzipped vcf, with tabix indexed .tbi file with similar name \n",
    "        in same folder.\n",
    "    \n",
    "    Returns\n",
    "    -------\n",
    "    pd.DataFrame\n",
    "        Dataframe with [name, number, type] columns\n",
    "\n",
    "    Notes\n",
    "    -----\n",
    "    Possible values for `type` are: \"Integer\", \"Float\", \"String\", \"Flag\".\n",
    "\n",
    "    Possible values for `number` are:\n",
    "        - An integer (e.g. 0, 1, 2, 3, 4, etc.) - for fields where the number\n",
    "          of values per VCF record is fixed. 0 means the field is a \"Flag\".\n",
    "        - A string (\"A\", \"G\", \"R\") - for fields where the number of\n",
    "          values per VCF record is determined by the number of alts, the total\n",
    "          number of alleles, or the number of genotypes, respectively.\n",
    "        - A dot (\".\") - for fields where the number of values per VCF record\n",
    "          varies, is unknown, or is unbounded.\n",
    "    \"\"\"\n",
    "    with pysam.VariantFile(vcf_path) as f:\n",
    "        return pd.DataFrame(\n",
    "            [(obj.name, obj.number, obj.type) for obj in f.header.info.values()],\n",
    "            columns=[\"name\", \"number\", \"type\"],\n",
    "        )\n"
   ]
  },
  {
   "cell_type": "code",
   "execution_count": 5,
   "metadata": {},
   "outputs": [],
   "source": [
    "import pysam"
   ]
  },
  {
   "cell_type": "code",
   "execution_count": 6,
   "metadata": {},
   "outputs": [
    {
     "data": {
      "text/plain": [
       "<pysam.libcbcf.VariantFile at 0x10b27fa30>"
      ]
     },
     "execution_count": 6,
     "metadata": {},
     "output_type": "execute_result"
    }
   ],
   "source": [
    "f = pysam.VariantFile(\"DRR.vcf.gz\")\n"
   ]
  },
  {
   "cell_type": "code",
   "execution_count": 7,
   "metadata": {},
   "outputs": [
    {
     "data": {
      "text/plain": [
       "<pysam.libcbcf.VariantHeader at 0x10b16e9d0>"
      ]
     },
     "execution_count": 7,
     "metadata": {},
     "output_type": "execute_result"
    }
   ],
   "source": [
    "f.header"
   ]
  },
  {
   "cell_type": "code",
   "execution_count": 10,
   "metadata": {},
   "outputs": [
    {
     "data": {
      "text/plain": [
       "['add_line',\n",
       " 'add_meta',\n",
       " 'add_record',\n",
       " 'add_sample',\n",
       " 'add_samples',\n",
       " 'alts',\n",
       " 'contigs',\n",
       " 'copy',\n",
       " 'filters',\n",
       " 'formats',\n",
       " 'info',\n",
       " 'merge',\n",
       " 'new_record',\n",
       " 'records',\n",
       " 'samples',\n",
       " 'version']"
      ]
     },
     "execution_count": 10,
     "metadata": {},
     "output_type": "execute_result"
    }
   ],
   "source": [
    "[x for x in dir(f.header) if not x.startswith('__')]\n"
   ]
  },
  {
   "cell_type": "code",
   "execution_count": 14,
   "metadata": {},
   "outputs": [
    {
     "data": {
      "text/plain": [
       "(0, 4857450, 'NC_003197_v2#0#genome')"
      ]
     },
     "execution_count": 14,
     "metadata": {},
     "output_type": "execute_result"
    }
   ],
   "source": [
    "f.header.contigs.keys(), f.header.contigs.values()\n",
    "\n",
    "contig = f.header.contigs.values()[0]\n",
    "contig.id, contig.length, contig.name"
   ]
  },
  {
   "cell_type": "code",
   "execution_count": 17,
   "metadata": {},
   "outputs": [
    {
     "data": {
      "text/plain": [
       "('All filters passed', 0, None, 'PASS')"
      ]
     },
     "execution_count": 17,
     "metadata": {},
     "output_type": "execute_result"
    }
   ],
   "source": [
    "f.header.filters.keys(), f.header.filters.values()\n",
    "filter = f.header.filters.values()[0]\n",
    "filter.description, filter.id, filter.number, filter.name"
   ]
  },
  {
   "cell_type": "code",
   "execution_count": 20,
   "metadata": {},
   "outputs": [
    {
     "data": {
      "text/plain": [
       "('CONFLICT',\n",
       " '.',\n",
       " 'String',\n",
       " 'Sample names for which there are multiple paths in the graph with conflicting alleles')"
      ]
     },
     "execution_count": 20,
     "metadata": {},
     "output_type": "execute_result"
    }
   ],
   "source": [
    "f.header.info.keys(), f.header.info.values()\n",
    "info_field = f.header.info.values()[0]\n",
    "info_field.name, info_field.number, info_field.type, info_field.description"
   ]
  },
  {
   "cell_type": "code",
   "execution_count": 24,
   "metadata": {},
   "outputs": [
    {
     "data": {
      "text/plain": [
       "['DRR452334']"
      ]
     },
     "execution_count": 24,
     "metadata": {},
     "output_type": "execute_result"
    }
   ],
   "source": [
    "list(f.header.samples)"
   ]
  },
  {
   "cell_type": "code",
   "execution_count": null,
   "metadata": {},
   "outputs": [],
   "source": []
  }
 ],
 "metadata": {
  "kernelspec": {
   "display_name": ".venv",
   "language": "python",
   "name": "python3"
  },
  "language_info": {
   "codemirror_mode": {
    "name": "ipython",
    "version": 3
   },
   "file_extension": ".py",
   "mimetype": "text/x-python",
   "name": "python",
   "nbconvert_exporter": "python",
   "pygments_lexer": "ipython3",
   "version": "3.11.4"
  },
  "orig_nbformat": 4
 },
 "nbformat": 4,
 "nbformat_minor": 2
}
